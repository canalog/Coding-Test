{
 "cells": [
  {
   "cell_type": "markdown",
   "metadata": {},
   "source": [
    "https://github.com/paullabkorea/kakaocodingtest/blob/main/%EC%B5%9C%EC%A2%85Code(%EB%B0%B0%ED%8F%AC%EC%9A%A9).ipynb"
   ]
  },
  {
   "cell_type": "markdown",
   "metadata": {},
   "source": [
    "## <span style=\"color:black\"> **1번 워밍업 문제(google)**</span>\n",
    "\n",
    "1부터 10,000까지 8이라는 숫자가 총 몇번 나오는가?\n",
    "\n",
    "8이 포함되어 있는 숫자의 갯수를 카운팅 하는 것이 아니라 8이라는 숫자를 모두 카운팅 해야 한다. (※ 예를들어 8808은 3, 8888은 4로 카운팅 해야 함)\n",
    "\n",
    "문제 링크 : https://codingdojang.com/scode/393"
   ]
  },
  {
   "cell_type": "code",
   "execution_count": 6,
   "metadata": {},
   "outputs": [
    {
     "data": {
      "text/plain": [
       "4000"
      ]
     },
     "execution_count": 6,
     "metadata": {},
     "output_type": "execute_result"
    }
   ],
   "source": [
    "str(list(range(1, 10001))).count(\"8\")"
   ]
  },
  {
   "cell_type": "code",
   "execution_count": 7,
   "metadata": {},
   "outputs": [
    {
     "name": "stdout",
     "output_type": "stream",
     "text": [
      "4000\n"
     ]
    }
   ],
   "source": [
    "count = 0\n",
    "for i in range(1, 10001):\n",
    "    if \"8\" in str(i):\n",
    "        count += str(i).count(\"8\")\n",
    "print(count)"
   ]
  },
  {
   "cell_type": "code",
   "execution_count": 9,
   "metadata": {},
   "outputs": [
    {
     "data": {
      "text/plain": [
       "4000"
      ]
     },
     "execution_count": 9,
     "metadata": {},
     "output_type": "execute_result"
    }
   ],
   "source": [
    "str([i for i in range(1, 10001)]).count(\"8\")"
   ]
  },
  {
   "cell_type": "markdown",
   "metadata": {},
   "source": [
    "## <span style=\"color:black\"> **2번 워밍업 문제(daum)**</span>\n",
    "1차원의 점들이 주어졌을 때, 그 중 가장 거리가 짧은 것의 쌍을 출력하는 함수를 작성하시오. (단 점들의 배열은 모두 정렬되어있다고 가정한다.)\n",
    "\n",
    "예를들어 S = [1, 3, 4, 8, 13, 17, 20] 이 주어졌다면, 결과값은 (3, 4)가 될 것이다.\n",
    "\n",
    "문제링크 : https://codingdojang.com/scode/408"
   ]
  },
  {
   "cell_type": "code",
   "execution_count": 12,
   "metadata": {},
   "outputs": [
    {
     "name": "stdout",
     "output_type": "stream",
     "text": [
      "(3, 4)\n"
     ]
    }
   ],
   "source": [
    "S = [1, 3, 4, 8, 13, 17, 20]\n",
    "min_dist = max(S)\n",
    "a = (0, 1)\n",
    "for i in range(len(S)-1):\n",
    "    if min_dist > S[i+1] - S[i]:\n",
    "        a = (S[i], S[i+1])\n",
    "        min_dist = S[i+1] - S[i]\n",
    "print(a)"
   ]
  },
  {
   "cell_type": "code",
   "execution_count": 16,
   "metadata": {},
   "outputs": [
    {
     "data": {
      "text/plain": [
       "[(3, 4), (1, 3), (17, 20), (4, 8), (13, 17), (8, 13)]"
      ]
     },
     "execution_count": 16,
     "metadata": {},
     "output_type": "execute_result"
    }
   ],
   "source": [
    "S = [1, 3, 4, 8, 13, 17, 20]\n",
    "sorted(list(zip(S[0:], S[1:])), key=lambda i : i[1]-i[0])"
   ]
  },
  {
   "cell_type": "markdown",
   "metadata": {},
   "source": [
    "## <span style=\"color:black\"> **3번 카카오 2018 공채 문제 1번 비밀 지도**</span>\n",
    "\n",
    "- 문제는 한 해 전에 공개됩니다. 예를 들어 2020 공채라면 19년에 시험을 보기 때문입니다.\n",
    "- 링크 : https://tech.kakao.com/2017/09/27/kakao-blind-recruitment-round-1/"
   ]
  },
  {
   "cell_type": "code",
   "execution_count": 17,
   "metadata": {},
   "outputs": [],
   "source": [
    "n = 5\n",
    "arr1 = [9, 20, 28, 18, 11]\n",
    "arr2 = [30, 1, 21, 17, 28]"
   ]
  },
  {
   "cell_type": "code",
   "execution_count": 39,
   "metadata": {},
   "outputs": [],
   "source": [
    "def solution(n, arr1, arr2):\n",
    "    merged = [arr1[i] | arr2[i] for i in range(n)]\n",
    "    merged_binary = list(map(lambda i: i[2:], list(map(bin, merged))))\n",
    "    answer = []\n",
    "    for b in merged_binary:\n",
    "        temp =\"\"\n",
    "        if len(b) is not n:\n",
    "            temp += \" \" * (n - len(b))\n",
    "        for i in range(len(b)):\n",
    "            if b[i] == \"1\": temp += \"#\"\n",
    "            else: temp += \" \"\n",
    "        answer.append(temp)\n",
    "    return answer"
   ]
  },
  {
   "cell_type": "code",
   "execution_count": 40,
   "metadata": {},
   "outputs": [
    {
     "name": "stdout",
     "output_type": "stream",
     "text": [
      "['#####', '# # #', '### #', '#  ##', '#####']\n"
     ]
    }
   ],
   "source": [
    "print(solution(n, arr1, arr2))"
   ]
  },
  {
   "cell_type": "markdown",
   "metadata": {},
   "source": [
    "solution"
   ]
  },
  {
   "cell_type": "code",
   "execution_count": 1,
   "metadata": {},
   "outputs": [
    {
     "data": {
      "text/plain": [
       "'0b1001'"
      ]
     },
     "execution_count": 1,
     "metadata": {},
     "output_type": "execute_result"
    }
   ],
   "source": [
    "bin(9)"
   ]
  },
  {
   "cell_type": "code",
   "execution_count": 2,
   "metadata": {},
   "outputs": [
    {
     "data": {
      "text/plain": [
       "'0b11110'"
      ]
     },
     "execution_count": 2,
     "metadata": {},
     "output_type": "execute_result"
    }
   ],
   "source": [
    "bin(30)"
   ]
  },
  {
   "cell_type": "code",
   "execution_count": 5,
   "metadata": {},
   "outputs": [
    {
     "data": {
      "text/plain": [
       "'#####'"
      ]
     },
     "execution_count": 5,
     "metadata": {},
     "output_type": "execute_result"
    }
   ],
   "source": [
    "bin(9 | 30)[2:].replace(\"1\", \"#\").replace(\"0\", \" \")"
   ]
  },
  {
   "cell_type": "code",
   "execution_count": 9,
   "metadata": {},
   "outputs": [],
   "source": [
    "n = 5\n",
    "arr1 = [3, 20, 28, 18, 11]\n",
    "arr2 = [5, 1, 21, 17, 28]"
   ]
  },
  {
   "cell_type": "code",
   "execution_count": 10,
   "metadata": {},
   "outputs": [
    {
     "name": "stdout",
     "output_type": "stream",
     "text": [
      "  ###\n",
      "# # #\n",
      "### #\n",
      "#  ##\n",
      "#####\n"
     ]
    }
   ],
   "source": [
    "# zfill(n) -> n자리가 되도록 앞에서부터 0을 채워넣음 ex) 111 -> 00111\n",
    "for i, j in zip(arr1, arr2):\n",
    "    print(bin(i | j)[2:].zfill(n).replace(\"1\", \"#\").replace(\"0\", \" \"))"
   ]
  },
  {
   "cell_type": "code",
   "execution_count": 11,
   "metadata": {},
   "outputs": [],
   "source": [
    "def solution(n, arr1, arr2):\n",
    "    answer = []\n",
    "    for i, j in zip(arr1, arr2):\n",
    "        answer.append(bin(i | j)[2:].zfill(n).replace(\"1\", \"#\").replace(\"0\", \" \"))\n",
    "    return answer"
   ]
  },
  {
   "cell_type": "code",
   "execution_count": 12,
   "metadata": {},
   "outputs": [
    {
     "name": "stdout",
     "output_type": "stream",
     "text": [
      "['#####', '# # #', '### #', '#  ##', '#####']\n",
      "['#####', '   ##', '### #', '#  ##', '#####']\n",
      "['######', '###  #', '##  ##', ' #### ', ' #####', '### # ']\n"
     ]
    }
   ],
   "source": [
    "testcase = [(5, [9, 20, 28, 18, 11], [30, 1, 21, 17, 28]), \n",
    "            (5, [9, 3, 28, 18, 11], [30, 1, 21, 17, 28]),\n",
    "            (6, [46, 33, 33 ,22, 31, 50], [27 ,56, 19, 14, 14, 10])]\n",
    "\n",
    "for i, j, k in testcase:\n",
    "    print(solution(i, j, k))"
   ]
  },
  {
   "cell_type": "markdown",
   "metadata": {},
   "source": [
    "## <span style=\"color:black\"> **4번 카카오 2018 공채 문제 2번 다트 게임**</span>"
   ]
  },
  {
   "cell_type": "markdown",
   "metadata": {},
   "source": [
    "1. 점수/보너스/옵션으로 나누기\n",
    "2. 점수 & 보너스 계산\n",
    "3. 옵션 계산"
   ]
  },
  {
   "cell_type": "code",
   "execution_count": 26,
   "metadata": {},
   "outputs": [],
   "source": [
    "num = list(map(str,range(0, 10))).append(\"t\")\n",
    "bonus = {\"S\": 1, \"D\": 2, \"T\": 3}\n",
    "option = {\"*\": 2, \"#\": -1}"
   ]
  },
  {
   "cell_type": "code",
   "execution_count": 29,
   "metadata": {},
   "outputs": [],
   "source": [
    "s = \"1S2D*3T\"\n",
    "num_index = [i for i in range(len(s)) if s[i] in num]\n",
    "num_index_length = len(num_index)\n",
    "if num_index_length != 3:\n",
    "    num_index.remove(list(filter(lambda x: x[1] - x[0] == 1, zip(num_index, num_index[1:])))[0][1])"
   ]
  },
  {
   "cell_type": "code",
   "execution_count": 71,
   "metadata": {},
   "outputs": [],
   "source": [
    "# 진짜 바보 같은 코드. 공부 많이 해야겠다\n",
    "def solution(s):\n",
    "    num = list(map(str,range(0, 10))) + [\"t\"]\n",
    "    bonus = {\"S\": 1, \"D\": 2, \"T\": 3}\n",
    "    option = {\"*\": 2, \"#\": -1}\n",
    "    s = s.replace(\"10\", \"t\")\n",
    "    each_score = []\n",
    "    for i in s:\n",
    "        if i in num:\n",
    "            if i == \"t\":\n",
    "                each_score.append(int(10))\n",
    "            else:\n",
    "                each_score.append(int(i))\n",
    "        elif i in bonus:\n",
    "            each_score[-1] = pow(each_score[-1] , bonus[i])\n",
    "        elif i in option:\n",
    "            each_score[-1] = each_score[-1] * option[i]\n",
    "            if i == \"*\":\n",
    "                try:\n",
    "                    each_score[-2] = each_score[-2] * option[i]\n",
    "                except:\n",
    "                    pass\n",
    "    return sum(each_score)"
   ]
  },
  {
   "cell_type": "code",
   "execution_count": 72,
   "metadata": {},
   "outputs": [
    {
     "name": "stdout",
     "output_type": "stream",
     "text": [
      "37\n",
      "9\n",
      "3\n",
      "23\n",
      "5\n",
      "-4\n",
      "59\n"
     ]
    }
   ],
   "source": [
    "testcase = [\"1S2D*3T\", \"1D2S#10S\", \"1D2S0T\", \"1S*2T*3S\", \"1D#2S*3S\", \"1T2D3D#\", \"1D2S3T*\"]\n",
    "\n",
    "for i in testcase:\n",
    "    print(solution(i))"
   ]
  },
  {
   "cell_type": "code",
   "execution_count": 68,
   "metadata": {},
   "outputs": [
    {
     "name": "stdout",
     "output_type": "stream",
     "text": [
      "1\n",
      "2\n",
      "0\n",
      "3\n"
     ]
    }
   ],
   "source": [
    "s = \"1S20D*3T\"\n",
    "for i in s:\n",
    "    if i.isnumeric(): # 문자열이 숫자로 되어있는지 검사\n",
    "        print(i)"
   ]
  },
  {
   "cell_type": "code",
   "execution_count": 78,
   "metadata": {},
   "outputs": [],
   "source": [
    "# 풀이 2\n",
    "def solution(dartResult):\n",
    "    answer = []\n",
    "    dartResult = dartResult.replace(\"10\", \"k\")\n",
    "    point = [\"10\" if i == \"k\" else i for i in dartResult]\n",
    "    \n",
    "    sdt = [\"S\", \"D\", \"T\"]\n",
    "    for i in point:\n",
    "        if i in sdt:\n",
    "            answer[-1] = answer[-1] ** (sdt.index(i) + 1)\n",
    "        elif i == \"*\":\n",
    "            answer[-1] = answer[-1] * 2\n",
    "            if len(answer) != 1:\n",
    "                answer[-2] = answer[-2] * 2\n",
    "        elif i == \"#\":\n",
    "            answer[-1] = answer[-1] * -1\n",
    "        else:\n",
    "            answer.append(int(i))\n",
    "    return sum(answer)"
   ]
  },
  {
   "cell_type": "code",
   "execution_count": 79,
   "metadata": {},
   "outputs": [
    {
     "name": "stdout",
     "output_type": "stream",
     "text": [
      "37\n",
      "9\n",
      "3\n",
      "23\n",
      "5\n",
      "-4\n",
      "59\n"
     ]
    }
   ],
   "source": [
    "testcase = [\"1S2D*3T\", \"1D2S#10S\", \"1D2S0T\", \"1S*2T*3S\", \"1D#2S*3S\", \"1T2D3D#\", \"1D2S3T*\"]\n",
    "\n",
    "for i in testcase:\n",
    "    print(solution(i))"
   ]
  },
  {
   "cell_type": "code",
   "execution_count": 84,
   "metadata": {},
   "outputs": [],
   "source": [
    "# 풀이 3\n",
    "def solution(dartResult):\n",
    "    answer = []\n",
    "    for num, i in enumerate(dartResult):\n",
    "        if i == \"S\":\n",
    "            answer[-1] **= 1\n",
    "        elif i == \"D\":\n",
    "            answer[-1] **= 2\n",
    "        elif i == \"T\":\n",
    "            answer[-1] **= 3\n",
    "        elif i == \"*\":\n",
    "            answer[-1] *= 2\n",
    "            if len(answer) >= 2:\n",
    "                answer[-2] *= 2\n",
    "        elif i == \"#\":\n",
    "            answer[-1] *= -1\n",
    "        else:\n",
    "            # 이 코드도 솔직히 별로인 듯.\n",
    "            if dartResult[num:num+2] == \"10\": # 다음 인덱스의 값\n",
    "                answer.append(10)\n",
    "            elif dartResult[num-1:num+1] != \"10\":\n",
    "                answer.append(int(i))\n",
    "    return sum(answer)"
   ]
  },
  {
   "cell_type": "code",
   "execution_count": 85,
   "metadata": {
    "scrolled": true
   },
   "outputs": [
    {
     "name": "stdout",
     "output_type": "stream",
     "text": [
      "37\n",
      "9\n",
      "3\n",
      "23\n",
      "5\n",
      "-4\n",
      "59\n"
     ]
    }
   ],
   "source": [
    "testcase = [\"1S2D*3T\", \"1D2S#10S\", \"1D2S0T\", \"1S*2T*3S\", \"1D#2S*3S\", \"1T2D3D#\", \"1D2S3T*\"]\n",
    "\n",
    "for i in testcase:\n",
    "    print(solution(i))"
   ]
  },
  {
   "cell_type": "code",
   "execution_count": 89,
   "metadata": {},
   "outputs": [
    {
     "data": {
      "text/plain": [
       "[('1', 'S', ''), ('2', 'D', '*'), ('3', 'T', '')]"
      ]
     },
     "execution_count": 89,
     "metadata": {},
     "output_type": "execute_result"
    }
   ],
   "source": [
    "import re\n",
    "\n",
    "testcase = [\"1S2D*3T\", \"1D2S#10S\"]\n",
    "pattern = re.compile(r\"([0-9]|10)([SDT])([\\*\\#]?)\")\n",
    "pattern.findall(testcase[0])"
   ]
  },
  {
   "cell_type": "code",
   "execution_count": 90,
   "metadata": {},
   "outputs": [],
   "source": [
    "# 풀이 4 with 정규표현식\n",
    "import re\n",
    "\n",
    "def solution(dartResult):\n",
    "    pattern = re.compile(r\"([0-9]|10)([SDT])([\\*\\#]?)\")\n",
    "    answer = []\n",
    "    bonus = {\n",
    "        \"S\": lambda x: x,\n",
    "        \"D\": lambda x: x**2,\n",
    "        \"T\": lambda x: x**3\n",
    "    }\n",
    "    for n, b, o in pattern.findall(dartResult):\n",
    "        if b in bonus:\n",
    "            score = bonus[b]((int(n)))\n",
    "        if o == \"*\":\n",
    "            score *= 2\n",
    "            if answer:\n",
    "                answer[-1] *= 2\n",
    "        elif o == \"#\":\n",
    "            score *= -1\n",
    "        answer.append(score)\n",
    "    return sum(answer)"
   ]
  },
  {
   "cell_type": "code",
   "execution_count": 91,
   "metadata": {
    "scrolled": true
   },
   "outputs": [
    {
     "name": "stdout",
     "output_type": "stream",
     "text": [
      "37\n",
      "9\n",
      "3\n",
      "23\n",
      "5\n",
      "-4\n",
      "59\n"
     ]
    }
   ],
   "source": [
    "testcase = [\"1S2D*3T\", \"1D2S#10S\", \"1D2S0T\", \"1S*2T*3S\", \"1D#2S*3S\", \"1T2D3D#\", \"1D2S3T*\"]\n",
    "\n",
    "for i in testcase:\n",
    "    print(solution(i))"
   ]
  },
  {
   "cell_type": "markdown",
   "metadata": {},
   "source": [
    "## <span style=\"color:black\"> **5번 카카오 2018 공채 문제 3번 캐시**</span>"
   ]
  },
  {
   "cell_type": "markdown",
   "metadata": {},
   "source": [
    "* 입력된 도시 이름 배열을 순서대로 처리하는 것이 매우 중요한 포인트!"
   ]
  },
  {
   "cell_type": "code",
   "execution_count": 14,
   "metadata": {},
   "outputs": [],
   "source": [
    "def solution(cacheSize, cities):\n",
    "    cache = []\n",
    "    answer = 0\n",
    "    for c in cities:\n",
    "        c = c.lower()\n",
    "        if c in cache: # 도시가 cache 안에 있을 경우\n",
    "            answer += 1\n",
    "            cache.remove(c)\n",
    "            cache.append(c)\n",
    "        else: # 도시가 cache 안에 없을 경우\n",
    "            answer += 5\n",
    "            if len(cache) == cacheSize: # cache가 꽉 차있는 경우\n",
    "                cache = cache[1:] + [c]\n",
    "            else: # cache가 비어 있는 경우\n",
    "                cache.append(c)\n",
    "    return answer"
   ]
  },
  {
   "cell_type": "code",
   "execution_count": 15,
   "metadata": {},
   "outputs": [
    {
     "name": "stdout",
     "output_type": "stream",
     "text": [
      "50\n",
      "21\n",
      "60\n",
      "52\n",
      "25\n"
     ]
    }
   ],
   "source": [
    "testcase = [[3, ['Jeju', 'Pangyo', 'Seoul', 'NewYork', 'LA', 'Jeju', 'Pangyo', 'Seoul', 'NewYork', 'LA']],\n",
    "           [3, ['Jeju', 'Pangyo', 'Seoul', 'Jeju', 'Pangyo', 'Seoul', 'Jeju', 'Pangyo', 'Seoul']],\n",
    "           [2, ['Jeju', 'Pangyo', 'Seoul', 'NewYork', 'LA', 'SanFrancisco', 'Seoul', 'Rome', 'Paris', 'Jeju', 'NewYork', 'Rome']],\n",
    "           [5, ['Jeju', 'Pangyo', 'Seoul', 'NewYork', 'LA', 'SanFrancisco', 'Seoul', 'Rome', 'Paris', 'Jeju', 'NewYork', 'Rome']],\n",
    "           [0, ['Jeju', 'Pangyo', 'Seoul', 'NewYork', 'LA']]]\n",
    "for t in testcase:\n",
    "    print(solution(t[0], t[1]))"
   ]
  },
  {
   "cell_type": "code",
   "execution_count": 16,
   "metadata": {
    "scrolled": true
   },
   "outputs": [
    {
     "name": "stdout",
     "output_type": "stream",
     "text": [
      "50\n",
      "21\n"
     ]
    }
   ],
   "source": [
    "from collections import deque\n",
    "def solution(cacheSize, cities):\n",
    "    l = [\"\"] * cacheSize\n",
    "    answer = 0\n",
    "    cache = deque(l, maxlen=cacheSize)\n",
    "    for city in cities:\n",
    "        city = city.lower()\n",
    "        if city in cache:\n",
    "            cache.remove(city)\n",
    "            cache.append(city)\n",
    "            answer += 1\n",
    "        else:\n",
    "            cache.append(city)\n",
    "            answer += 5\n",
    "    return answer\n",
    "\n",
    "testcase = [\n",
    "    [3, ['Jeju', 'Pangyo', 'Seoul', 'NewYork', 'LA', 'Jeju', 'Pangyo', 'Seoul', 'NewYork', 'LA']],\n",
    "    [3, ['Jeju', 'Pangyo', 'Seoul', 'Jeju', 'Pangyo', 'Seoul', 'Jeju', 'Pangyo', 'Seoul']]\n",
    "]\n",
    "\n",
    "for case in testcase:\n",
    "    print(solution(case[0], case[1]))"
   ]
  },
  {
   "cell_type": "markdown",
   "metadata": {},
   "source": [
    "## <span style=\"color:black\"> **6번 카카오 2018 공채 문제 4번 셔틀버스**</span>"
   ]
  },
  {
   "cell_type": "code",
   "execution_count": 24,
   "metadata": {},
   "outputs": [
    {
     "data": {
      "text/plain": [
       "['08:00', '09:09', '09:10']"
      ]
     },
     "execution_count": 24,
     "metadata": {},
     "output_type": "execute_result"
    }
   ],
   "source": [
    "sorted(['09:10', '09:09', '08:00'])"
   ]
  },
  {
   "cell_type": "code",
   "execution_count": 43,
   "metadata": {},
   "outputs": [],
   "source": [
    "def solution(n, t, m, timetable):\n",
    "    timetable.sort()\n",
    "    bus_time = \"09:00\"\n",
    "    con_time = 0\n",
    "    for i in range(n):\n",
    "        cnt = 0\n",
    "        for crew in timetable:\n",
    "            if cnt < m and crew <= bus_time:\n",
    "                last_time = crew\n",
    "                timetable.remove(crew)\n",
    "                cnt += 1\n",
    "        if cnt < m:\n",
    "            last_time = bus_time\n",
    "        bus_min = int(bus_time[3:]) + t\n",
    "        bus_time = f\"{bus_time[0:2]}:{str(bus_min).zfill(2)}\" if bus_min < 60 else f\"{str(int(bus_time[0:2])+1).zfill(2)}:{str(bus_min-60).zfill(2)}\"\n",
    "    return last_time"
   ]
  },
  {
   "cell_type": "code",
   "execution_count": 44,
   "metadata": {},
   "outputs": [
    {
     "name": "stdout",
     "output_type": "stream",
     "text": [
      "09:00\n",
      "09:10\n",
      "09:01\n"
     ]
    }
   ],
   "source": [
    "testcase = [\n",
    "    (1, 1, 5, ['08:00', '08:01', '08:02', '08:03']),\n",
    "    (2, 10, 2, ['09:10', '09:09', '08:00']),\n",
    "    (2, 1, 2, ['09:00', '09:00', '09:00', '09:00'])\n",
    "]\n",
    "\n",
    "for n, t, m, timetable in testcase:\n",
    "    print(solution(n, t, m, timetable))"
   ]
  },
  {
   "cell_type": "code",
   "execution_count": 53,
   "metadata": {},
   "outputs": [],
   "source": [
    "def solution(n, t, m, timetable):\n",
    "    timetable = sorted([int(i[0:2]) * 60 + int(i[3:]) for i in timetable])\n",
    "    \n",
    "    con_time = 540 # 콘의 출근시간 9시로 초기화\n",
    "    bus_time = 540\n",
    "    \n",
    "    for i in range(n):\n",
    "        for j in range(m):\n",
    "            if timetable and timetable[0] <= bus_time: # 버스에 탈 자리 없으면 맨 마지막 크루보다 1분 먼저 도착\n",
    "                con_time = timetable.pop(0) - 1\n",
    "            else: # 버스에 탈 자리 있으면 버스 시간에 맞춰 오면 됨\n",
    "                con_time = bus_time\n",
    "        bus_time += t\n",
    "    return f\"{str(con_time//60).zfill(2)}:{str(con_time%60).zfill(2)}\""
   ]
  },
  {
   "cell_type": "code",
   "execution_count": 54,
   "metadata": {},
   "outputs": [
    {
     "name": "stdout",
     "output_type": "stream",
     "text": [
      "09:00\n",
      "09:09\n",
      "08:59\n"
     ]
    }
   ],
   "source": [
    "testcase = [\n",
    "    (1, 1, 5, ['08:00', '08:01', '08:02', '08:03']),\n",
    "    (2, 10, 2, ['09:10', '09:09', '08:00']),\n",
    "    (2, 1, 2, ['09:00', '09:00', '09:00', '09:00'])\n",
    "]\n",
    "\n",
    "for n, t, m, timetable in testcase:\n",
    "    print(solution(n, t, m, timetable))"
   ]
  },
  {
   "cell_type": "markdown",
   "metadata": {},
   "source": [
    "## <span style=\"color:black\"> **7번 카카오 2018 공채 문제 5번 뉴스 클러스터링**</span>"
   ]
  },
  {
   "cell_type": "code",
   "execution_count": 87,
   "metadata": {},
   "outputs": [],
   "source": [
    "def solution(str1, str2):\n",
    "    str1 = list(str1.lower())\n",
    "    str2 = list(str2.lower())\n",
    "    # 알파벳으로만 구성된 문자열 다중집합 만들기\n",
    "    str1 = [i[0]+i[1].lower() for i in list(zip(str1[0:], str1[1:])) if i[0].isalpha() and i[1].isalpha()]\n",
    "    str2 = [i[0]+i[1] for i in list(zip(str2[0:], str2[1:])) if i[0].isalpha() and i[1].isalpha()]\n",
    "    # 자카드 유사도 구하기\n",
    "    if not str1 and not str2:\n",
    "        return 65536\n",
    "    cnt = 0 # 교집합 크기\n",
    "    for i in set(str1):\n",
    "        cnt += min(str1.count(i), str2.count(i))\n",
    "    total = len(str1) + len(str2) - cnt\n",
    "    return int(cnt / total * 65536)"
   ]
  },
  {
   "cell_type": "code",
   "execution_count": 88,
   "metadata": {},
   "outputs": [
    {
     "name": "stdout",
     "output_type": "stream",
     "text": [
      "16384\n",
      "65536\n",
      "43690\n",
      "65536\n"
     ]
    }
   ],
   "source": [
    "testcase = [\n",
    "    ('FRANCE', 'french'),\n",
    "    ('handshake', 'shake hands'),\n",
    "    ('aa1+aa2', 'AAAA12'),\n",
    "    ('E=M*C^2', 'e=m*c^2')\n",
    "]\n",
    "\n",
    "for str1, str2 in testcase:\n",
    "    print(solution(str1, str2))"
   ]
  },
  {
   "cell_type": "code",
   "execution_count": 89,
   "metadata": {},
   "outputs": [],
   "source": [
    "def solution(str1, str2):\n",
    "\n",
    "    list1 = [str1[n:n+2].lower() for n in range(len(str1)-1) if str1[n:n+2].isalpha()]\n",
    "    list2 = [str2[n:n+2].lower() for n in range(len(str2)-1) if str2[n:n+2].isalpha()]\n",
    "\n",
    "    tlist = set(list1) | set(list2)\n",
    "    res1 = [] #합집합\n",
    "    res2 = [] #교집합\n",
    "\n",
    "    if tlist:\n",
    "        for i in tlist:\n",
    "            res1.extend([i]*max(list1.count(i), list2.count(i)))\n",
    "            res2.extend([i]*min(list1.count(i), list2.count(i)))\n",
    "\n",
    "        answer = int(len(res2)/len(res1)*65536)\n",
    "        return answer\n",
    "\n",
    "    else:\n",
    "        return 65536"
   ]
  },
  {
   "cell_type": "code",
   "execution_count": 92,
   "metadata": {},
   "outputs": [],
   "source": [
    "import re\n",
    "\n",
    "def solution(str1, str2):\n",
    "    # [^a-zA-Z]+ -> 하나라도 알파벳이 아닌 문자가 있는 경우\n",
    "    str1 = [str1[i:i+2].lower() for i in range(0, len(str1)-1) if not re.findall(\"[^a-zA-Z]+\", str1[i:i+2])]\n",
    "    str2 = [str2[i:i+2].lower() for i in range(0, len(str2)-1) if not re.findall(\"[^a-zA-Z]+\", str2[i:i+2])]\n",
    "    \n",
    "    gyo = set(str1) | set(str2)\n",
    "    hap = set(str1) & set(str2)\n",
    "    \n",
    "    if not len(hap):\n",
    "        return 65536\n",
    "    \n",
    "    gyo_sum = sum([min(str1.count(i), str2.count(i)) for i in gyo])\n",
    "    hap_sum = sum([max(str1.count(i), str2.count(i)) for i in hap])\n",
    "    \n",
    "    return int(gyo_sum / hap_sum * 65536)"
   ]
  },
  {
   "cell_type": "code",
   "execution_count": 93,
   "metadata": {
    "scrolled": true
   },
   "outputs": [
    {
     "name": "stdout",
     "output_type": "stream",
     "text": [
      "65536\n",
      "65536\n",
      "43690\n",
      "65536\n"
     ]
    }
   ],
   "source": [
    "testcase = [\n",
    "    ('FRANCE', 'french'),\n",
    "    ('handshake', 'shake hands'),\n",
    "    ('aa1+aa2', 'AAAA12'),\n",
    "    ('E=M*C^2', 'e=m*c^2')\n",
    "]\n",
    "\n",
    "for str1, str2 in testcase:\n",
    "    print(solution(str1, str2))"
   ]
  },
  {
   "cell_type": "code",
   "execution_count": null,
   "metadata": {},
   "outputs": [],
   "source": [
    "# 다른 사람 답안인데 비효율적임. 정규표현식 사용하는 법만 참고\n",
    "import re\n",
    "\n",
    "def solution(str1, str2):\n",
    "    #예외처리 추가\n",
    "    if len(str1) <= 1 and len(str2) <= 1 :\n",
    "            return 65536\n",
    "    str1 = str1.lower()\n",
    "    str2 = str2.lower()\n",
    "    \n",
    "    str1List = []\n",
    "    str2List = []\n",
    "    \n",
    "    패턴 = re.compile(r'[a-z]{2}')\n",
    "    \n",
    "    for i in range(len(str1)-1):\n",
    "        문자열 = str1[i]+str1[i+1]\n",
    "        if 패턴.findall(문자열):\n",
    "            str1List.append(문자열)\n",
    "        \n",
    "    for i in range(len(str2)-1):\n",
    "        문자열 = str2[i]+str2[i+1]\n",
    "        if 패턴.findall(문자열):\n",
    "            str2List.append(문자열)\n",
    "        \n",
    "    교집합 = set(str1List) & set(str2List)\n",
    "    합집합 = set(str1List) | set(str2List)\n",
    "    \n",
    "    교집합추가수 = 0\n",
    "    \n",
    "    for i in 교집합:\n",
    "        if str1List.count(i) > 1 and str2List.count(i) > 1:\n",
    "            if str1List.count(i) > str2List.count(i):\n",
    "                교집합추가수 += str2List.count(i)-1\n",
    "            else:\n",
    "                교집합추가수 += str1List.count(i)-1\n",
    "    \n",
    "    합집합추가수 = 0\n",
    "                \n",
    "    for i in 합집합:\n",
    "        if str1List.count(i) > 1 or str2List.count(i) > 1:\n",
    "            if str1List.count(i) > str2List.count(i):\n",
    "                합집합추가수 += str1List.count(i)-1\n",
    "            else:\n",
    "                합집합추가수 += str2List.count(i)-1          \n",
    "    \n",
    "    #마지막에 추가\n",
    "    if (len(합집합) + 합집합추가수) == 0:\n",
    "        return 65536\n",
    "    if (len(교집합) + 교집합추가수) == 0:\n",
    "        return 0\n",
    "        \n",
    "    return int((len(교집합) + 교집합추가수) / (len(합집합) + 합집합추가수) * 65536)\n",
    "\n",
    "\n",
    "testcase = [\n",
    "    ('FRANCE', 'french'),\n",
    "    ('handshake', 'shake hands'),\n",
    "    ('aa1+aa2', 'AAAA12')\n",
    "]\n",
    "\n",
    "# 올림은 ceil, 반올림은 round\n",
    "for str1, str2 in testcase:\n",
    "    print(solution(str1, str2))"
   ]
  },
  {
   "cell_type": "markdown",
   "metadata": {},
   "source": [
    "## <span style=\"color:black\"> **8번 카카오 2018 공채 문제 6번 프렌즈4블록**</span>"
   ]
  },
  {
   "cell_type": "code",
   "execution_count": 94,
   "metadata": {},
   "outputs": [
    {
     "data": {
      "text/plain": [
       "True"
      ]
     },
     "execution_count": 94,
     "metadata": {},
     "output_type": "execute_result"
    }
   ],
   "source": [
    "\"ax\".isalpha()"
   ]
  },
  {
   "cell_type": "code",
   "execution_count": null,
   "metadata": {},
   "outputs": [],
   "source": []
  }
 ],
 "metadata": {
  "kernelspec": {
   "display_name": "Python 3",
   "language": "python",
   "name": "python3"
  },
  "language_info": {
   "codemirror_mode": {
    "name": "ipython",
    "version": 3
   },
   "file_extension": ".py",
   "mimetype": "text/x-python",
   "name": "python",
   "nbconvert_exporter": "python",
   "pygments_lexer": "ipython3",
   "version": "3.8.5"
  }
 },
 "nbformat": 4,
 "nbformat_minor": 4
}
