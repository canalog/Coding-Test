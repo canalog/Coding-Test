{
 "cells": [
  {
   "cell_type": "markdown",
   "metadata": {},
   "source": [
    "https://github.com/paullabkorea/kakaocodingtest/blob/main/%EC%B5%9C%EC%A2%85Code(%EB%B0%B0%ED%8F%AC%EC%9A%A9).ipynb"
   ]
  },
  {
   "cell_type": "markdown",
   "metadata": {},
   "source": [
    "## <span style=\"color:black\"> **1번 워밍업 문제(google)**</span>\n",
    "\n",
    "1부터 10,000까지 8이라는 숫자가 총 몇번 나오는가?\n",
    "\n",
    "8이 포함되어 있는 숫자의 갯수를 카운팅 하는 것이 아니라 8이라는 숫자를 모두 카운팅 해야 한다. (※ 예를들어 8808은 3, 8888은 4로 카운팅 해야 함)\n",
    "\n",
    "문제 링크 : https://codingdojang.com/scode/393"
   ]
  },
  {
   "cell_type": "code",
   "execution_count": 6,
   "metadata": {},
   "outputs": [
    {
     "data": {
      "text/plain": [
       "4000"
      ]
     },
     "execution_count": 6,
     "metadata": {},
     "output_type": "execute_result"
    }
   ],
   "source": [
    "str(list(range(1, 10001))).count(\"8\")"
   ]
  },
  {
   "cell_type": "code",
   "execution_count": 7,
   "metadata": {},
   "outputs": [
    {
     "name": "stdout",
     "output_type": "stream",
     "text": [
      "4000\n"
     ]
    }
   ],
   "source": [
    "count = 0\n",
    "for i in range(1, 10001):\n",
    "    if \"8\" in str(i):\n",
    "        count += str(i).count(\"8\")\n",
    "print(count)"
   ]
  },
  {
   "cell_type": "code",
   "execution_count": 9,
   "metadata": {},
   "outputs": [
    {
     "data": {
      "text/plain": [
       "4000"
      ]
     },
     "execution_count": 9,
     "metadata": {},
     "output_type": "execute_result"
    }
   ],
   "source": [
    "str([i for i in range(1, 10001)]).count(\"8\")"
   ]
  },
  {
   "cell_type": "markdown",
   "metadata": {},
   "source": [
    "## <span style=\"color:black\"> **2번 워밍업 문제(daum)**</span>\n",
    "1차원의 점들이 주어졌을 때, 그 중 가장 거리가 짧은 것의 쌍을 출력하는 함수를 작성하시오. (단 점들의 배열은 모두 정렬되어있다고 가정한다.)\n",
    "\n",
    "예를들어 S = [1, 3, 4, 8, 13, 17, 20] 이 주어졌다면, 결과값은 (3, 4)가 될 것이다.\n",
    "\n",
    "문제링크 : https://codingdojang.com/scode/408"
   ]
  },
  {
   "cell_type": "code",
   "execution_count": 12,
   "metadata": {},
   "outputs": [
    {
     "name": "stdout",
     "output_type": "stream",
     "text": [
      "(3, 4)\n"
     ]
    }
   ],
   "source": [
    "S = [1, 3, 4, 8, 13, 17, 20]\n",
    "min_dist = max(S)\n",
    "a = (0, 1)\n",
    "for i in range(len(S)-1):\n",
    "    if min_dist > S[i+1] - S[i]:\n",
    "        a = (S[i], S[i+1])\n",
    "        min_dist = S[i+1] - S[i]\n",
    "print(a)"
   ]
  },
  {
   "cell_type": "code",
   "execution_count": 16,
   "metadata": {},
   "outputs": [
    {
     "data": {
      "text/plain": [
       "[(3, 4), (1, 3), (17, 20), (4, 8), (13, 17), (8, 13)]"
      ]
     },
     "execution_count": 16,
     "metadata": {},
     "output_type": "execute_result"
    }
   ],
   "source": [
    "S = [1, 3, 4, 8, 13, 17, 20]\n",
    "sorted(list(zip(S[0:], S[1:])), key=lambda i : i[1]-i[0])"
   ]
  },
  {
   "cell_type": "markdown",
   "metadata": {},
   "source": [
    "## <span style=\"color:black\"> **3번 카카오 2018 공채 문제 1번**</span>\n",
    "\n",
    "- 문제는 한 해 전에 공개됩니다. 예를 들어 2020 공채라면 19년에 시험을 보기 때문입니다.\n",
    "- 링크 : https://tech.kakao.com/2017/09/27/kakao-blind-recruitment-round-1/"
   ]
  },
  {
   "cell_type": "code",
   "execution_count": 17,
   "metadata": {},
   "outputs": [],
   "source": [
    "n = 5\n",
    "arr1 = [9, 20, 28, 18, 11]\n",
    "arr2 = [30, 1, 21, 17, 28]"
   ]
  },
  {
   "cell_type": "code",
   "execution_count": 39,
   "metadata": {},
   "outputs": [],
   "source": [
    "def solution(n, arr1, arr2):\n",
    "    merged = [arr1[i] | arr2[i] for i in range(n)]\n",
    "    merged_binary = list(map(lambda i: i[2:], list(map(bin, merged))))\n",
    "    answer = []\n",
    "    for b in merged_binary:\n",
    "        temp =\"\"\n",
    "        if len(b) is not n:\n",
    "            temp += \" \" * (n - len(b))\n",
    "        for i in range(len(b)):\n",
    "            if b[i] == \"1\": temp += \"#\"\n",
    "            else: temp += \" \"\n",
    "        answer.append(temp)\n",
    "    return answer"
   ]
  },
  {
   "cell_type": "code",
   "execution_count": 40,
   "metadata": {},
   "outputs": [
    {
     "name": "stdout",
     "output_type": "stream",
     "text": [
      "['#####', '# # #', '### #', '#  ##', '#####']\n"
     ]
    }
   ],
   "source": [
    "print(solution(n, arr1, arr2))"
   ]
  },
  {
   "cell_type": "code",
   "execution_count": null,
   "metadata": {},
   "outputs": [],
   "source": []
  }
 ],
 "metadata": {
  "kernelspec": {
   "display_name": "Python 3",
   "language": "python",
   "name": "python3"
  },
  "language_info": {
   "codemirror_mode": {
    "name": "ipython",
    "version": 3
   },
   "file_extension": ".py",
   "mimetype": "text/x-python",
   "name": "python",
   "nbconvert_exporter": "python",
   "pygments_lexer": "ipython3",
   "version": "3.8.5"
  }
 },
 "nbformat": 4,
 "nbformat_minor": 4
}
